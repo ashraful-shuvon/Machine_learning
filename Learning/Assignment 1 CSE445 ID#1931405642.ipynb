{
 "cells": [
  {
   "cell_type": "markdown",
   "id": "0baa7713",
   "metadata": {},
   "source": [
    "# CSE445 Assignment 1_Name: Ashraful Bhuyan Shuvon_ID: 1931405642"
   ]
  },
  {
   "cell_type": "code",
   "execution_count": 1,
   "id": "7406ac7d",
   "metadata": {},
   "outputs": [],
   "source": [
    "# importing librariess\n",
    "\n",
    "import pandas as pd\n",
    "import numpy as np\n",
    "import matplotlib.pyplot as plt"
   ]
  },
  {
   "cell_type": "markdown",
   "id": "9fea77ae",
   "metadata": {},
   "source": [
    "### Loading excel file"
   ]
  },
  {
   "cell_type": "code",
   "execution_count": 2,
   "id": "0191754c",
   "metadata": {},
   "outputs": [],
   "source": [
    "df = pd.read_excel('CSE445_Assignment01.xlsx')\n"
   ]
  },
  {
   "cell_type": "code",
   "execution_count": 3,
   "id": "b634febf",
   "metadata": {},
   "outputs": [
    {
     "name": "stdout",
     "output_type": "stream",
     "text": [
      "                                       Clinical_text          Disease  \\\n",
      "0  35 years old Masuma Begum is seeing change in ...  Cronh's Disease   \n",
      "1  Hanif Ahmed at the age of 55 presents to the c...  Cronh's Disease   \n",
      "2  Apu Sarker is a male of 32 years having fecal ...  Cronh's Disease   \n",
      "3  Samia Nasreen, a 24 years old female is having...  Cronh's Disease   \n",
      "4  43 years old Babu Das comes to the clinic for ...  Cronh's Disease   \n",
      "5  67 years old Abdullah is experiencing change i...  Cronh's Disease   \n",
      "6  Ridita Haque, a 19 years old female is having ...  Cronh's Disease   \n",
      "7  Nasir Hasan, a male of 60 years came to the cl...  Cronh's Disease   \n",
      "8  Hiya Tabassum, 23 years old female is experien...  Cronh's Disease   \n",
      "9  46 years old Runa Farhana presents to the clin...  Cronh's Disease   \n",
      "\n",
      "                                            Symptoms  Height (m)  Weight (kg)  \\\n",
      "0                   ['burning sensations', 'sweats']        1.57           48   \n",
      "1  ['bowel incontinence', 'swelling', 'sweats', '...        1.55           60   \n",
      "2                  ['fecal incontinence', 'itching']        1.61           82   \n",
      "3                 ['bleeding', 'swelling', 'sweats']        1.78           70   \n",
      "4  ['fecal incontinence', 'sweats', 'itching sens...        1.58           84   \n",
      "5                   ['itching sensations', 'sweats']        1.80           64   \n",
      "6                            ['itching', 'swelling']        1.76           63   \n",
      "7       ['bowel incontinence', 'bleeding', 'sweats']        1.64           55   \n",
      "8                  ['itching', 'swelling', 'sweats']        1.76           57   \n",
      "9      ['bowel incontinence', 'swelling', 'itching']        1.69           51   \n",
      "\n",
      "     BMI  \n",
      "0  19.47  \n",
      "1  24.97  \n",
      "2  31.63  \n",
      "3  22.09  \n",
      "4  33.65  \n",
      "5  19.75  \n",
      "6  20.34  \n",
      "7  20.45  \n",
      "8  18.40  \n",
      "9  17.86  \n"
     ]
    }
   ],
   "source": [
    "# printing first 10 rows\n",
    "\n",
    "print(df.head(10))"
   ]
  },
  {
   "cell_type": "code",
   "execution_count": 4,
   "id": "a54ae1ec",
   "metadata": {
    "scrolled": true
   },
   "outputs": [
    {
     "data": {
      "text/plain": [
       "(359, 6)"
      ]
     },
     "execution_count": 4,
     "metadata": {},
     "output_type": "execute_result"
    }
   ],
   "source": [
    "# no of rows and cols\n",
    "\n",
    "df.shape"
   ]
  },
  {
   "cell_type": "code",
   "execution_count": 5,
   "id": "d8e94a4a",
   "metadata": {},
   "outputs": [
    {
     "name": "stdout",
     "output_type": "stream",
     "text": [
      "<class 'pandas.core.frame.DataFrame'>\n",
      "RangeIndex: 359 entries, 0 to 358\n",
      "Data columns (total 6 columns):\n",
      " #   Column         Non-Null Count  Dtype  \n",
      "---  ------         --------------  -----  \n",
      " 0   Clinical_text  359 non-null    object \n",
      " 1   Disease        359 non-null    object \n",
      " 2   Symptoms       354 non-null    object \n",
      " 3   Height (m)     359 non-null    float64\n",
      " 4   Weight (kg)    359 non-null    int64  \n",
      " 5   BMI            349 non-null    float64\n",
      "dtypes: float64(2), int64(1), object(3)\n",
      "memory usage: 17.0+ KB\n",
      "None\n"
     ]
    }
   ],
   "source": [
    "# checking missing values\n",
    "\n",
    "print(df.info())"
   ]
  },
  {
   "cell_type": "markdown",
   "id": "4a43822f",
   "metadata": {},
   "source": [
    "### Symptoms has 5 records with missing values. So, droping those 5 rows. "
   ]
  },
  {
   "cell_type": "code",
   "execution_count": 6,
   "id": "212eebf9",
   "metadata": {},
   "outputs": [],
   "source": [
    "# Droping rows with missing values using 'dropna()' method.\n",
    "\n",
    "\n",
    "df.dropna(subset = ['Symptoms'], inplace = True)"
   ]
  },
  {
   "cell_type": "code",
   "execution_count": 7,
   "id": "0f348b49",
   "metadata": {},
   "outputs": [
    {
     "name": "stdout",
     "output_type": "stream",
     "text": [
      "<class 'pandas.core.frame.DataFrame'>\n",
      "Int64Index: 354 entries, 0 to 358\n",
      "Data columns (total 6 columns):\n",
      " #   Column         Non-Null Count  Dtype  \n",
      "---  ------         --------------  -----  \n",
      " 0   Clinical_text  354 non-null    object \n",
      " 1   Disease        354 non-null    object \n",
      " 2   Symptoms       354 non-null    object \n",
      " 3   Height (m)     354 non-null    float64\n",
      " 4   Weight (kg)    354 non-null    int64  \n",
      " 5   BMI            344 non-null    float64\n",
      "dtypes: float64(2), int64(1), object(3)\n",
      "memory usage: 19.4+ KB\n",
      "None\n"
     ]
    }
   ],
   "source": [
    "print(df.info())"
   ]
  },
  {
   "cell_type": "markdown",
   "id": "ee772a01",
   "metadata": {},
   "source": [
    "### Printing count values to identify weather the dataset is balanced or not."
   ]
  },
  {
   "cell_type": "code",
   "execution_count": 8,
   "id": "58fe11cf",
   "metadata": {},
   "outputs": [
    {
     "name": "stdout",
     "output_type": "stream",
     "text": [
      "Depression              60\n",
      "Hay Fever               55\n",
      "Parkinson's Disease     50\n",
      "Stress                  50\n",
      "Hepatitis B             50\n",
      "Raynaud's phenomenon    50\n",
      "Cronh's Disease         39\n",
      "Name: Disease, dtype: int64\n"
     ]
    }
   ],
   "source": [
    "disease_counts = df['Disease'].value_counts()\n",
    "print(disease_counts)"
   ]
  },
  {
   "cell_type": "markdown",
   "id": "d6f77f26",
   "metadata": {},
   "source": [
    "### Result: We can see that the dataset is not totally balanced. All the values are not similar. "
   ]
  },
  {
   "cell_type": "code",
   "execution_count": 9,
   "id": "8ce7d860",
   "metadata": {},
   "outputs": [
    {
     "ename": "KeyError",
     "evalue": "\"['Height', 'Weight'] not in index\"",
     "output_type": "error",
     "traceback": [
      "\u001b[0;31m---------------------------------------------------------------------------\u001b[0m",
      "\u001b[0;31mKeyError\u001b[0m                                  Traceback (most recent call last)",
      "Cell \u001b[0;32mIn[9], line 4\u001b[0m\n\u001b[1;32m      1\u001b[0m \u001b[38;5;66;03m# Creating a New_df with Height, Weight, and BMI Columns\u001b[39;00m\n\u001b[0;32m----> 4\u001b[0m new_df \u001b[38;5;241m=\u001b[39m df[[\u001b[38;5;124m'\u001b[39m\u001b[38;5;124mHeight\u001b[39m\u001b[38;5;124m'\u001b[39m, \u001b[38;5;124m'\u001b[39m\u001b[38;5;124mWeight\u001b[39m\u001b[38;5;124m'\u001b[39m, \u001b[38;5;124m'\u001b[39m\u001b[38;5;124mBMI\u001b[39m\u001b[38;5;124m'\u001b[39m]]\n",
      "File \u001b[0;32m~/anaconda3/lib/python3.11/site-packages/pandas/core/frame.py:3813\u001b[0m, in \u001b[0;36mDataFrame.__getitem__\u001b[0;34m(self, key)\u001b[0m\n\u001b[1;32m   3811\u001b[0m     \u001b[38;5;28;01mif\u001b[39;00m is_iterator(key):\n\u001b[1;32m   3812\u001b[0m         key \u001b[38;5;241m=\u001b[39m \u001b[38;5;28mlist\u001b[39m(key)\n\u001b[0;32m-> 3813\u001b[0m     indexer \u001b[38;5;241m=\u001b[39m \u001b[38;5;28mself\u001b[39m\u001b[38;5;241m.\u001b[39mcolumns\u001b[38;5;241m.\u001b[39m_get_indexer_strict(key, \u001b[38;5;124m\"\u001b[39m\u001b[38;5;124mcolumns\u001b[39m\u001b[38;5;124m\"\u001b[39m)[\u001b[38;5;241m1\u001b[39m]\n\u001b[1;32m   3815\u001b[0m \u001b[38;5;66;03m# take() does not accept boolean indexers\u001b[39;00m\n\u001b[1;32m   3816\u001b[0m \u001b[38;5;28;01mif\u001b[39;00m \u001b[38;5;28mgetattr\u001b[39m(indexer, \u001b[38;5;124m\"\u001b[39m\u001b[38;5;124mdtype\u001b[39m\u001b[38;5;124m\"\u001b[39m, \u001b[38;5;28;01mNone\u001b[39;00m) \u001b[38;5;241m==\u001b[39m \u001b[38;5;28mbool\u001b[39m:\n",
      "File \u001b[0;32m~/anaconda3/lib/python3.11/site-packages/pandas/core/indexes/base.py:6070\u001b[0m, in \u001b[0;36mIndex._get_indexer_strict\u001b[0;34m(self, key, axis_name)\u001b[0m\n\u001b[1;32m   6067\u001b[0m \u001b[38;5;28;01melse\u001b[39;00m:\n\u001b[1;32m   6068\u001b[0m     keyarr, indexer, new_indexer \u001b[38;5;241m=\u001b[39m \u001b[38;5;28mself\u001b[39m\u001b[38;5;241m.\u001b[39m_reindex_non_unique(keyarr)\n\u001b[0;32m-> 6070\u001b[0m \u001b[38;5;28mself\u001b[39m\u001b[38;5;241m.\u001b[39m_raise_if_missing(keyarr, indexer, axis_name)\n\u001b[1;32m   6072\u001b[0m keyarr \u001b[38;5;241m=\u001b[39m \u001b[38;5;28mself\u001b[39m\u001b[38;5;241m.\u001b[39mtake(indexer)\n\u001b[1;32m   6073\u001b[0m \u001b[38;5;28;01mif\u001b[39;00m \u001b[38;5;28misinstance\u001b[39m(key, Index):\n\u001b[1;32m   6074\u001b[0m     \u001b[38;5;66;03m# GH 42790 - Preserve name from an Index\u001b[39;00m\n",
      "File \u001b[0;32m~/anaconda3/lib/python3.11/site-packages/pandas/core/indexes/base.py:6133\u001b[0m, in \u001b[0;36mIndex._raise_if_missing\u001b[0;34m(self, key, indexer, axis_name)\u001b[0m\n\u001b[1;32m   6130\u001b[0m     \u001b[38;5;28;01mraise\u001b[39;00m \u001b[38;5;167;01mKeyError\u001b[39;00m(\u001b[38;5;124mf\u001b[39m\u001b[38;5;124m\"\u001b[39m\u001b[38;5;124mNone of [\u001b[39m\u001b[38;5;132;01m{\u001b[39;00mkey\u001b[38;5;132;01m}\u001b[39;00m\u001b[38;5;124m] are in the [\u001b[39m\u001b[38;5;132;01m{\u001b[39;00maxis_name\u001b[38;5;132;01m}\u001b[39;00m\u001b[38;5;124m]\u001b[39m\u001b[38;5;124m\"\u001b[39m)\n\u001b[1;32m   6132\u001b[0m not_found \u001b[38;5;241m=\u001b[39m \u001b[38;5;28mlist\u001b[39m(ensure_index(key)[missing_mask\u001b[38;5;241m.\u001b[39mnonzero()[\u001b[38;5;241m0\u001b[39m]]\u001b[38;5;241m.\u001b[39munique())\n\u001b[0;32m-> 6133\u001b[0m \u001b[38;5;28;01mraise\u001b[39;00m \u001b[38;5;167;01mKeyError\u001b[39;00m(\u001b[38;5;124mf\u001b[39m\u001b[38;5;124m\"\u001b[39m\u001b[38;5;132;01m{\u001b[39;00mnot_found\u001b[38;5;132;01m}\u001b[39;00m\u001b[38;5;124m not in index\u001b[39m\u001b[38;5;124m\"\u001b[39m)\n",
      "\u001b[0;31mKeyError\u001b[0m: \"['Height', 'Weight'] not in index\""
     ]
    }
   ],
   "source": [
    "# Creating a New_df with Height, Weight, and BMI Columns\n",
    "\n",
    "\n",
    "new_df = df[['Height', 'Weight', 'BMI']]"
   ]
  },
  {
   "cell_type": "code",
   "execution_count": 10,
   "id": "4fe8e945",
   "metadata": {},
   "outputs": [],
   "source": [
    "new_df = df[['Height (m)', 'Weight (kg)', 'BMI']]"
   ]
  },
  {
   "cell_type": "code",
   "execution_count": 11,
   "id": "97dcd68b",
   "metadata": {},
   "outputs": [
    {
     "name": "stdout",
     "output_type": "stream",
     "text": [
      "   Height (m)  Weight (kg)    BMI\n",
      "0        1.57           48  19.47\n",
      "1        1.55           60  24.97\n",
      "2        1.61           82  31.63\n",
      "3        1.78           70  22.09\n",
      "4        1.58           84  33.65\n",
      "5        1.80           64  19.75\n",
      "6        1.76           63  20.34\n",
      "7        1.64           55  20.45\n",
      "8        1.76           57  18.40\n",
      "9        1.69           51  17.86\n"
     ]
    }
   ],
   "source": [
    "# Printing new df for 10 rows.\n",
    "\n",
    "print(new_df.head(10))"
   ]
  },
  {
   "cell_type": "markdown",
   "id": "080d0135",
   "metadata": {},
   "source": [
    "### Converting the dataframe into numpy array. "
   ]
  },
  {
   "cell_type": "code",
   "execution_count": 12,
   "id": "0104f62e",
   "metadata": {},
   "outputs": [],
   "source": [
    "# Using to_numpy() method\n",
    "\n",
    "np_array = new_df.to_numpy()"
   ]
  },
  {
   "cell_type": "markdown",
   "id": "73ab2835",
   "metadata": {},
   "source": [
    "### Replacing missing BMI values."
   ]
  },
  {
   "cell_type": "code",
   "execution_count": 13,
   "id": "74c0acbc",
   "metadata": {},
   "outputs": [
    {
     "ename": "TypeError",
     "evalue": "ufunc 'bitwise_xor' not supported for the input types, and the inputs could not be safely coerced to any supported types according to the casting rule ''safe''",
     "output_type": "error",
     "traceback": [
      "\u001b[0;31m---------------------------------------------------------------------------\u001b[0m",
      "\u001b[0;31mTypeError\u001b[0m                                 Traceback (most recent call last)",
      "Cell \u001b[0;32mIn[13], line 5\u001b[0m\n\u001b[1;32m      1\u001b[0m \u001b[38;5;66;03m# replaceing missing BMI values.\u001b[39;00m\n\u001b[1;32m      4\u001b[0m missing_bmi_values \u001b[38;5;241m=\u001b[39m np\u001b[38;5;241m.\u001b[39misnan(np_array[:, \u001b[38;5;241m2\u001b[39m])\n\u001b[0;32m----> 5\u001b[0m np_array[missing_bmi_values, \u001b[38;5;241m2\u001b[39m] \u001b[38;5;241m=\u001b[39m np_array[missing_bmi_values, \u001b[38;5;241m1\u001b[39m] \u001b[38;5;241m/\u001b[39m (np_array[missing_bmi_values, \u001b[38;5;241m0\u001b[39m] ) \u001b[38;5;241m^\u001b[39m \u001b[38;5;241m2\u001b[39m\n",
      "\u001b[0;31mTypeError\u001b[0m: ufunc 'bitwise_xor' not supported for the input types, and the inputs could not be safely coerced to any supported types according to the casting rule ''safe''"
     ]
    }
   ],
   "source": [
    "# replaceing missing BMI values.\n",
    "\n",
    "\n",
    "missing_bmi_values = np.isnan(np_array[:, 2])\n",
    "np_array[missing_bmi_values, 2] = np_array[missing_bmi_values, 1] / (np_array[missing_bmi_values, 0] ) ^ 2\n"
   ]
  },
  {
   "cell_type": "code",
   "execution_count": 14,
   "id": "08459f6b",
   "metadata": {},
   "outputs": [],
   "source": [
    "# replaceing missing BMI values.\n",
    "\n",
    "\n",
    "missing_bmi_values = np.isnan(np_array[:, 2])\n",
    "np_array[missing_bmi_values, 2] = np_array[missing_bmi_values, 1] / (np_array[missing_bmi_values, 0] ) ** 2\n"
   ]
  },
  {
   "cell_type": "markdown",
   "id": "c9e02147",
   "metadata": {},
   "source": [
    "### Replacing the BMI column of the previous dataframe with newly obtained values."
   ]
  },
  {
   "cell_type": "code",
   "execution_count": 15,
   "id": "0b7635ca",
   "metadata": {},
   "outputs": [
    {
     "name": "stderr",
     "output_type": "stream",
     "text": [
      "/tmp/ipykernel_91949/1581743506.py:2: SettingWithCopyWarning: \n",
      "A value is trying to be set on a copy of a slice from a DataFrame.\n",
      "Try using .loc[row_indexer,col_indexer] = value instead\n",
      "\n",
      "See the caveats in the documentation: https://pandas.pydata.org/pandas-docs/stable/user_guide/indexing.html#returning-a-view-versus-a-copy\n",
      "  new_df['BMI'] = updated_df['BMI']\n"
     ]
    }
   ],
   "source": [
    "updated_df = pd.DataFrame(np_array, columns=['Height (m)', 'Weight (kg)', 'BMI'])\n",
    "new_df['BMI'] = updated_df['BMI']\n"
   ]
  },
  {
   "cell_type": "code",
   "execution_count": 16,
   "id": "da1ab0c1",
   "metadata": {},
   "outputs": [],
   "source": [
    "updated_df = pd.DataFrame(np_array, columns=['Height (m)', 'Weight (kg)', 'BMI'])\n",
    "df['BMI'] = updated_df['BMI']\n"
   ]
  },
  {
   "cell_type": "code",
   "execution_count": 17,
   "id": "82022110",
   "metadata": {},
   "outputs": [
    {
     "name": "stdout",
     "output_type": "stream",
     "text": [
      "<class 'pandas.core.frame.DataFrame'>\n",
      "Int64Index: 354 entries, 0 to 358\n",
      "Data columns (total 6 columns):\n",
      " #   Column         Non-Null Count  Dtype  \n",
      "---  ------         --------------  -----  \n",
      " 0   Clinical_text  354 non-null    object \n",
      " 1   Disease        354 non-null    object \n",
      " 2   Symptoms       354 non-null    object \n",
      " 3   Height (m)     354 non-null    float64\n",
      " 4   Weight (kg)    354 non-null    int64  \n",
      " 5   BMI            349 non-null    float64\n",
      "dtypes: float64(2), int64(1), object(3)\n",
      "memory usage: 19.4+ KB\n",
      "None\n"
     ]
    }
   ],
   "source": [
    "print(df.info())"
   ]
  },
  {
   "cell_type": "code",
   "execution_count": 18,
   "id": "18b68fdc",
   "metadata": {},
   "outputs": [
    {
     "name": "stdout",
     "output_type": "stream",
     "text": [
      "<class 'pandas.core.frame.DataFrame'>\n",
      "RangeIndex: 354 entries, 0 to 353\n",
      "Data columns (total 3 columns):\n",
      " #   Column       Non-Null Count  Dtype  \n",
      "---  ------       --------------  -----  \n",
      " 0   Height (m)   354 non-null    float64\n",
      " 1   Weight (kg)  354 non-null    float64\n",
      " 2   BMI          354 non-null    float64\n",
      "dtypes: float64(3)\n",
      "memory usage: 8.4 KB\n",
      "None\n"
     ]
    }
   ],
   "source": [
    "print(updated_df.info())"
   ]
  },
  {
   "cell_type": "markdown",
   "id": "e0120783",
   "metadata": {},
   "source": [
    "### Successfully replaced the missing values of the old BMI with updated BMI. "
   ]
  },
  {
   "cell_type": "code",
   "execution_count": 19,
   "id": "d9ae84ff",
   "metadata": {},
   "outputs": [
    {
     "name": "stdout",
     "output_type": "stream",
     "text": [
      "   Height (m)  Weight (kg)    BMI\n",
      "0        1.57         48.0  19.47\n",
      "1        1.55         60.0  24.97\n",
      "2        1.61         82.0  31.63\n",
      "3        1.78         70.0  22.09\n",
      "4        1.58         84.0  33.65\n"
     ]
    }
   ],
   "source": [
    "print(updated_df.head(5))"
   ]
  },
  {
   "cell_type": "markdown",
   "id": "0b211483",
   "metadata": {},
   "source": [
    "## Creating a Barplot Based on BMI Categories using matplotlib. "
   ]
  },
  {
   "cell_type": "code",
   "execution_count": 21,
   "id": "21a006c3",
   "metadata": {},
   "outputs": [
    {
     "data": {
      "image/png": "[encoded data removed]",
      "text/plain": [
       "<Figure size 640x480 with 1 Axes>"
      ]
     },
     "metadata": {},
     "output_type": "display_data"
    }
   ],
   "source": [
    "\n",
    "# Defineing BMI categories and labels\n",
    "categories = ['Underweight (<18.5)', 'Normal (18.5-24.9)', 'Overweight (25-29.9)', 'Obese (>30)']\n",
    "\n",
    "# patients based on BMI\n",
    "df['BMI Category'] = pd.cut(df['BMI'], bins=[0, 18.5, 24.9, 29.9, float('inf')], labels=categories)\n",
    "\n",
    "# Count patients in each category\n",
    "category_counts = df['BMI Category'].value_counts()\n",
    "\n",
    "# Creating barplot\n",
    "plt.bar(category_counts.index, category_counts.values)\n",
    "plt.xlabel('BMI Category')\n",
    "plt.ylabel('Patients')\n",
    "plt.title('Patients Based on BMI Category')\n",
    "plt.xticks(rotation=50)\n",
    "plt.show()\n"
   ]
  },
  {
   "cell_type": "code",
   "execution_count": null,
   "id": "b7307811",
   "metadata": {},
   "outputs": [],
   "source": []
  }
 ],
 "metadata": {
  "kernelspec": {
   "display_name": "Python 3 (ipykernel)",
   "language": "python",
   "name": "python3"
  },
  "language_info": {
   "codemirror_mode": {
    "name": "ipython",
    "version": 3
   },
   "file_extension": ".py",
   "mimetype": "text/x-python",
   "name": "python",
   "nbconvert_exporter": "python",
   "pygments_lexer": "ipython3",
   "version": "3.11.4"
  }
 },
 "nbformat": 4,
 "nbformat_minor": 5
}
